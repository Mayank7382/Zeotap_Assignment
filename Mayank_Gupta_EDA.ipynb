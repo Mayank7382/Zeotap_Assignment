{
  "cells": [
    {
      "cell_type": "markdown",
      "metadata": {
        "id": "view-in-github",
        "colab_type": "text"
      },
      "source": [
        "<a href=\"https://colab.research.google.com/github/Mayank7382/Zeotap_Assignment/blob/main/Mayank_Gupta_EDA.ipynb\" target=\"_parent\"><img src=\"https://colab.research.google.com/assets/colab-badge.svg\" alt=\"Open In Colab\"/></a>"
      ]
    },
    {
      "cell_type": "code",
      "source": [
        "\n",
        "import pandas as pd\n"
      ],
      "metadata": {
        "id": "jeU1asc8IdT4"
      },
      "id": "jeU1asc8IdT4",
      "execution_count": 1,
      "outputs": []
    },
    {
      "cell_type": "code",
      "source": [
        "transactions = pd.read_csv('Transactions (1).csv')\n",
        "products = pd.read_csv('Products.csv')\n",
        "customers = pd.read_csv('Customers.csv')\n",
        "\n"
      ],
      "metadata": {
        "id": "mxiXBtfAI9_i"
      },
      "id": "mxiXBtfAI9_i",
      "execution_count": 5,
      "outputs": []
    },
    {
      "cell_type": "code",
      "source": [
        "merged_data = pd.merge(transactions, products, on='ProductID')\n",
        "merged_data = pd.merge(merged_data, customers, on='CustomerID')"
      ],
      "metadata": {
        "id": "eJS9qWMxiD4J"
      },
      "id": "eJS9qWMxiD4J",
      "execution_count": 6,
      "outputs": []
    },
    {
      "cell_type": "code",
      "source": [
        "print(\"Transactions Data Overview:\")"
      ],
      "metadata": {
        "id": "GRFbmg44icxL",
        "outputId": "3dfbbb0c-3fbb-4555-829b-e22bd61e3bc6",
        "colab": {
          "base_uri": "https://localhost:8080/"
        }
      },
      "id": "GRFbmg44icxL",
      "execution_count": 7,
      "outputs": [
        {
          "output_type": "stream",
          "name": "stdout",
          "text": [
            "Transactions Data Overview:\n"
          ]
        }
      ]
    },
    {
      "cell_type": "code",
      "source": [
        "print(transactions.info())"
      ],
      "metadata": {
        "id": "ITD2jJpJimQi",
        "outputId": "30bc2610-08c2-4dfe-fcc4-7454007458dc",
        "colab": {
          "base_uri": "https://localhost:8080/"
        }
      },
      "id": "ITD2jJpJimQi",
      "execution_count": 8,
      "outputs": [
        {
          "output_type": "stream",
          "name": "stdout",
          "text": [
            "<class 'pandas.core.frame.DataFrame'>\n",
            "RangeIndex: 1000 entries, 0 to 999\n",
            "Data columns (total 7 columns):\n",
            " #   Column           Non-Null Count  Dtype  \n",
            "---  ------           --------------  -----  \n",
            " 0   TransactionID    1000 non-null   object \n",
            " 1   CustomerID       1000 non-null   object \n",
            " 2   ProductID        1000 non-null   object \n",
            " 3   TransactionDate  1000 non-null   object \n",
            " 4   Quantity         1000 non-null   int64  \n",
            " 5   TotalValue       1000 non-null   float64\n",
            " 6   Price            1000 non-null   float64\n",
            "dtypes: float64(2), int64(1), object(4)\n",
            "memory usage: 54.8+ KB\n",
            "None\n"
          ]
        }
      ]
    },
    {
      "cell_type": "code",
      "source": [
        "print(transactions.describe())"
      ],
      "metadata": {
        "id": "HnaUk7t3iuyt",
        "outputId": "755d49a0-39f4-472a-8557-116495e140de",
        "colab": {
          "base_uri": "https://localhost:8080/"
        }
      },
      "id": "HnaUk7t3iuyt",
      "execution_count": 9,
      "outputs": [
        {
          "output_type": "stream",
          "name": "stdout",
          "text": [
            "          Quantity   TotalValue       Price\n",
            "count  1000.000000  1000.000000  1000.00000\n",
            "mean      2.537000   689.995560   272.55407\n",
            "std       1.117981   493.144478   140.73639\n",
            "min       1.000000    16.080000    16.08000\n",
            "25%       2.000000   295.295000   147.95000\n",
            "50%       3.000000   588.880000   299.93000\n",
            "75%       4.000000  1011.660000   404.40000\n",
            "max       4.000000  1991.040000   497.76000\n"
          ]
        }
      ]
    },
    {
      "cell_type": "code",
      "source": [],
      "metadata": {
        "id": "0e6kVNq6i9tu"
      },
      "id": "0e6kVNq6i9tu",
      "execution_count": null,
      "outputs": []
    },
    {
      "cell_type": "code",
      "source": [
        "print(\"\\nProducts Data Overview:\")\n",
        "print(products.info())\n",
        "print(products.describe())"
      ],
      "metadata": {
        "id": "MJ8t9xnhi1JP",
        "outputId": "f40976d0-f673-4a9a-f212-cfef1b845136",
        "colab": {
          "base_uri": "https://localhost:8080/"
        }
      },
      "id": "MJ8t9xnhi1JP",
      "execution_count": 10,
      "outputs": [
        {
          "output_type": "stream",
          "name": "stdout",
          "text": [
            "\n",
            "Products Data Overview:\n",
            "<class 'pandas.core.frame.DataFrame'>\n",
            "RangeIndex: 100 entries, 0 to 99\n",
            "Data columns (total 4 columns):\n",
            " #   Column       Non-Null Count  Dtype  \n",
            "---  ------       --------------  -----  \n",
            " 0   ProductID    100 non-null    object \n",
            " 1   ProductName  100 non-null    object \n",
            " 2   Category     100 non-null    object \n",
            " 3   Price        100 non-null    float64\n",
            "dtypes: float64(1), object(3)\n",
            "memory usage: 3.3+ KB\n",
            "None\n",
            "            Price\n",
            "count  100.000000\n",
            "mean   267.551700\n",
            "std    143.219383\n",
            "min     16.080000\n",
            "25%    147.767500\n",
            "50%    292.875000\n",
            "75%    397.090000\n",
            "max    497.760000\n"
          ]
        }
      ]
    },
    {
      "cell_type": "code",
      "source": [
        "print(\"\\nCustomers Data Overview:\")\n",
        "print(customers.info())\n",
        "print(customers.describe())\n"
      ],
      "metadata": {
        "id": "06Ecz1CNi-9O",
        "outputId": "2abd0bb8-854f-48d9-dbeb-f517b37968b0",
        "colab": {
          "base_uri": "https://localhost:8080/"
        }
      },
      "id": "06Ecz1CNi-9O",
      "execution_count": 11,
      "outputs": [
        {
          "output_type": "stream",
          "name": "stdout",
          "text": [
            "\n",
            "Customers Data Overview:\n",
            "<class 'pandas.core.frame.DataFrame'>\n",
            "RangeIndex: 200 entries, 0 to 199\n",
            "Data columns (total 4 columns):\n",
            " #   Column        Non-Null Count  Dtype \n",
            "---  ------        --------------  ----- \n",
            " 0   CustomerID    200 non-null    object\n",
            " 1   CustomerName  200 non-null    object\n",
            " 2   Region        200 non-null    object\n",
            " 3   SignupDate    200 non-null    object\n",
            "dtypes: object(4)\n",
            "memory usage: 6.4+ KB\n",
            "None\n",
            "       CustomerID      CustomerName         Region  SignupDate\n",
            "count         200               200            200         200\n",
            "unique        200               200              4         179\n",
            "top         C0001  Lawrence Carroll  South America  2024-11-11\n",
            "freq            1                 1             59           3\n"
          ]
        }
      ]
    },
    {
      "cell_type": "code",
      "source": [
        "total_revenue = transactions['TotalValue'].sum()\n",
        "print(f\"\\nTotal Revenue: ${total_revenue:.2f}\")\n"
      ],
      "metadata": {
        "id": "wd0bWdfhjDFt",
        "outputId": "7bef50ee-7b42-4674-eb41-4185ccdc3b2a",
        "colab": {
          "base_uri": "https://localhost:8080/"
        }
      },
      "id": "wd0bWdfhjDFt",
      "execution_count": 12,
      "outputs": [
        {
          "output_type": "stream",
          "name": "stdout",
          "text": [
            "\n",
            "Total Revenue: $689995.56\n"
          ]
        }
      ]
    },
    {
      "cell_type": "code",
      "source": [
        "top_products = merged_data.groupby('ProductName')['TotalValue'].sum().nlargest(5)\n",
        "print(\"\\nTop 5 Products by Revenue:\")\n",
        "print(top_products)"
      ],
      "metadata": {
        "id": "2-QmjhVsjFDV",
        "outputId": "e62dafe3-256b-4612-d59b-52bf403ae260",
        "colab": {
          "base_uri": "https://localhost:8080/"
        }
      },
      "id": "2-QmjhVsjFDV",
      "execution_count": 13,
      "outputs": [
        {
          "output_type": "stream",
          "name": "stdout",
          "text": [
            "\n",
            "Top 5 Products by Revenue:\n",
            "ProductName\n",
            "ActiveWear Smartwatch    39096.97\n",
            "SoundWave Headphones     25211.64\n",
            "SoundWave Novel          24507.90\n",
            "ActiveWear Jacket        22712.56\n",
            "ActiveWear Rug           22314.43\n",
            "Name: TotalValue, dtype: float64\n"
          ]
        }
      ]
    },
    {
      "cell_type": "code",
      "source": [
        "top_customers = merged_data.groupby('CustomerName')['TotalValue'].sum().nlargest(5)\n",
        "print(\"\\nTop 5 Customers by Spending:\")\n",
        "print(top_customers)"
      ],
      "metadata": {
        "id": "-oAPp1m7jJO0",
        "outputId": "6c14b43f-83a3-4b43-bf71-ab0a2112609d",
        "colab": {
          "base_uri": "https://localhost:8080/"
        }
      },
      "id": "-oAPp1m7jJO0",
      "execution_count": 14,
      "outputs": [
        {
          "output_type": "stream",
          "name": "stdout",
          "text": [
            "\n",
            "Top 5 Customers by Spending:\n",
            "CustomerName\n",
            "Paul Parsons     10673.87\n",
            "Bruce Rhodes      8040.39\n",
            "Gerald Hines      7663.70\n",
            "William Adams     7634.45\n",
            "Aimee Taylor      7572.91\n",
            "Name: TotalValue, dtype: float64\n"
          ]
        }
      ]
    },
    {
      "cell_type": "code",
      "source": [
        "region_sales = merged_data.groupby('Region')['TotalValue'].sum()\n",
        "print(\"\\nSales Distribution by Region:\")\n",
        "print(region_sales)"
      ],
      "metadata": {
        "id": "pr1cS2nDjNmR",
        "outputId": "7f2b7195-f7f5-4910-c26b-10a3bfeeaf1b",
        "colab": {
          "base_uri": "https://localhost:8080/"
        }
      },
      "id": "pr1cS2nDjNmR",
      "execution_count": 15,
      "outputs": [
        {
          "output_type": "stream",
          "name": "stdout",
          "text": [
            "\n",
            "Sales Distribution by Region:\n",
            "Region\n",
            "Asia             152074.97\n",
            "Europe           166254.63\n",
            "North America    152313.40\n",
            "South America    219352.56\n",
            "Name: TotalValue, dtype: float64\n"
          ]
        }
      ]
    },
    {
      "cell_type": "code",
      "source": [
        "popular_categories = merged_data.groupby('Category')['Quantity'].sum().nlargest(5)\n",
        "print(\"\\nMost Popular Product Categories:\")\n",
        "print(popular_categories)"
      ],
      "metadata": {
        "id": "BaR3PvkjjT5r",
        "outputId": "3a229084-5932-4ca6-c8c7-3802b7973e37",
        "colab": {
          "base_uri": "https://localhost:8080/"
        }
      },
      "id": "BaR3PvkjjT5r",
      "execution_count": 16,
      "outputs": [
        {
          "output_type": "stream",
          "name": "stdout",
          "text": [
            "\n",
            "Most Popular Product Categories:\n",
            "Category\n",
            "Books          681\n",
            "Home Decor     639\n",
            "Electronics    627\n",
            "Clothing       590\n",
            "Name: Quantity, dtype: int64\n"
          ]
        }
      ]
    },
    {
      "cell_type": "code",
      "source": [
        "customers['SignupDate'] = pd.to_datetime(customers['SignupDate'])\n",
        "customer_acquisition = customers.groupby(customers['SignupDate'].dt.to_period('M')).size()\n",
        "print(\"\\nCustomer Acquisition Over Time:\")\n",
        "print(customer_acquisition)"
      ],
      "metadata": {
        "id": "EE_LWF-BjZKH",
        "outputId": "e49be7f5-99a9-4144-c38b-8d54773a1110",
        "colab": {
          "base_uri": "https://localhost:8080/"
        }
      },
      "id": "EE_LWF-BjZKH",
      "execution_count": 17,
      "outputs": [
        {
          "output_type": "stream",
          "name": "stdout",
          "text": [
            "\n",
            "Customer Acquisition Over Time:\n",
            "SignupDate\n",
            "2022-01     1\n",
            "2022-02     7\n",
            "2022-03     8\n",
            "2022-04     8\n",
            "2022-05     8\n",
            "2022-06     5\n",
            "2022-07     4\n",
            "2022-08     4\n",
            "2022-09     6\n",
            "2022-10     3\n",
            "2022-11     3\n",
            "2022-12     7\n",
            "2023-01     5\n",
            "2023-02     6\n",
            "2023-03     8\n",
            "2023-04     6\n",
            "2023-05     3\n",
            "2023-06     3\n",
            "2023-07     3\n",
            "2023-08     2\n",
            "2023-09     4\n",
            "2023-10     7\n",
            "2023-11     5\n",
            "2023-12     5\n",
            "2024-01     9\n",
            "2024-02     8\n",
            "2024-03     4\n",
            "2024-04    10\n",
            "2024-05     6\n",
            "2024-06     4\n",
            "2024-07     6\n",
            "2024-08     4\n",
            "2024-09    11\n",
            "2024-10     5\n",
            "2024-11    11\n",
            "2024-12     1\n",
            "Freq: M, dtype: int64\n"
          ]
        }
      ]
    }
  ],
  "metadata": {
    "kernelspec": {
      "display_name": "Python 3",
      "name": "python3"
    },
    "language_info": {
      "name": "python"
    },
    "required_libs": [],
    "colab": {
      "provenance": [],
      "include_colab_link": true
    }
  },
  "nbformat": 4,
  "nbformat_minor": 5
}